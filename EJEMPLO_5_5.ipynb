{
 "cells": [
  {
   "cell_type": "code",
   "execution_count": 1,
   "metadata": {},
   "outputs": [],
   "source": [
    "import numpy as np"
   ]
  },
  {
   "cell_type": "markdown",
   "metadata": {},
   "source": [
    "**FUNCIÓN TDMA**"
   ]
  },
  {
   "cell_type": "code",
   "execution_count": 2,
   "metadata": {},
   "outputs": [],
   "source": [
    "def TDMA(a,b,c,d):\n",
    "    \n",
    "    N = len(a)\n",
    "    cp = np.zeros(N,dtype='float64') \n",
    "    dp = np.zeros(N,dtype='float64')\n",
    "    X = np.zeros(N,dtype='float64') \n",
    "    cp[0] = c[0]/b[0]  \n",
    "    dp[0] = d[0]/b[0]\n",
    "    for i in np.arange(1,(N),1):\n",
    "        dnum = b[i] - a[i]*cp[i-1]\n",
    "        cp[i] = c[i]/dnum\n",
    "        dp[i] = (d[i]-a[i]*dp[i-1])/dnum\n",
    "    \n",
    "    X[(N-1)] = dp[N-1] \n",
    "\n",
    "    for i in np.arange((N-2),-1,-1):\n",
    "        X[i] = (dp[i]) - (cp[i])*(X[i+1])\n",
    "    \n",
    "    return(X)"
   ]
  },
  {
   "cell_type": "markdown",
   "metadata": {},
   "source": [
    "**DATOS DE ENTRADA**"
   ]
  },
  {
   "cell_type": "code",
   "execution_count": 3,
   "metadata": {},
   "outputs": [],
   "source": [
    "L=0.04                          # Longitud de pared [m]\n",
    "nodos=3                         # Número de nodos\n",
    "dx=L/(nodos-1)                  # Delta x [m]\n",
    "k=28                            # Conductividad térmica [W/mK]\n",
    "alfa=12.5*10**-6                # Difusividad térmica [m^2/s]\n",
    "TL=0                            # Temperatura izquierda fija [°C]\n",
    "e=5*10**6                       # Generación [W/m^3]\n",
    "Tamb=30                         # Temperatura del medio [°C]\n",
    "h=45                            # Coeficiente de convección [W/m2K]\n",
    "dt=15                           # Intervalo de tiempo [s]\n",
    "f=(alfa*dt)/(dx**2)             # Número de Fourier\n",
    "interv=10                       # Número de intervalos de tiempo\n",
    "t=np.ones(interv)               # Malla temporal\n",
    "t[0]=0                          # Tiempo inicial [s]\n",
    "\n",
    "for i in range(1, interv):\n",
    "    t[i]=dt*i\n",
    "\n",
    "T_inicial=np.ones(nodos)*200       # Temperatura incial de pared\n",
    "T_inicial[0]=TL\n",
    " \n",
    "T_init=np.ones(nodos)*200       # Temperatura incial de pared\n",
    "T_res=[]\n",
    "\n",
    "# INICIALIZAR VECTORES TDMA\n",
    "a=np.zeros(nodos)               # Lower\n",
    "b=np.zeros(nodos)               # Main\n",
    "c=np.zeros(nodos)               # Upper\n",
    "d=np.zeros(nodos)               # Right hand\n",
    "\n",
    "# CICLO DE ITERACIONES PARA ESTADO TRANSITORIO\n",
    "for j in range(0, len(t)):\n",
    "    T_init[0]=TL\n",
    "    \n",
    "    # Ensamblar [a]\n",
    "    a[0]=0\n",
    "    a[-1]=2*f\n",
    "\n",
    "    for i in range(1, nodos-1):\n",
    "        a[i]=f\n",
    "\n",
    "    # Ensamblar [c]\n",
    "    c[0]=0\n",
    "    c[-1]=0\n",
    "\n",
    "    for i in range(1, nodos-1):\n",
    "        c[i]=f\n",
    "        \n",
    "    # Ensamblar [b]\n",
    "    b[0]=1\n",
    "    b[-1]=-(1+2*f+2*f*(h*dx/k))\n",
    "\n",
    "    for i in range(1, nodos-1):\n",
    "        b[i]=-(1+2*f)\n",
    "        \n",
    "    #Ensamblar [d]\n",
    "    d[0]=TL\n",
    "    d[-1]=-T_init[-1]-((2*f*h*dx*Tamb)/k)-(f*e*dx**2/k)\n",
    "    for i in range(1, nodos-1):\n",
    "        d[i]=-T_init[i]-(f*e*dx**2/k)\n",
    "    \n",
    "    # LLAMAR A LA FUNCIÓN TDMA\n",
    "    T = TDMA(a,b,c,d)\n",
    "    T_res.append(T)\n",
    "    T_init=np.copy(T)\n",
    "    "
   ]
  },
  {
   "cell_type": "markdown",
   "metadata": {},
   "source": [
    "**RESULTADOS**"
   ]
  },
  {
   "cell_type": "code",
   "execution_count": 4,
   "metadata": {},
   "outputs": [
    {
     "name": "stdout",
     "output_type": "stream",
     "text": [
      "    T nodo 0 (°C)  T nodo 1 (°C)  T nodo 2 (°C)\n",
      "0            0.00         109.39         143.85\n",
      "1            0.00         168.78         199.54\n",
      "2            0.00         150.51         190.60\n",
      "3            0.00         138.60         180.38\n",
      "4            0.00         130.24         171.20\n",
      "5            0.00         124.08         163.61\n",
      "6            0.00         119.44         157.53\n",
      "7            0.00         115.88         152.75\n",
      "8            0.00         113.14         149.02\n",
      "9            0.00         111.03         146.11\n",
      "10           0.00         109.39         143.85\n"
     ]
    }
   ],
   "source": [
    "import pandas as pd\n",
    "\n",
    "T_res=np.array(T_res)\n",
    "T_res=np.vstack([T_inicial, T_res])\n",
    "DF = pd.DataFrame(T_res, columns = ['T nodo 0 (°C)','T nodo 1 (°C)','T nodo 2 (°C)'])\n",
    "pd.options.display.float_format=\"{:,.2f}\".format\n",
    "print(DF)\n",
    "\n"
   ]
  }
 ],
 "metadata": {
  "kernelspec": {
   "display_name": "Python 3.7.4 ('base')",
   "language": "python",
   "name": "python3"
  },
  "language_info": {
   "codemirror_mode": {
    "name": "ipython",
    "version": 3
   },
   "file_extension": ".py",
   "mimetype": "text/x-python",
   "name": "python",
   "nbconvert_exporter": "python",
   "pygments_lexer": "ipython3",
   "version": "3.7.4"
  },
  "orig_nbformat": 4,
  "vscode": {
   "interpreter": {
    "hash": "3d82a38089e50421a8eb0a1b5b0c8f4058d78f7bd7e9cfdf2f73b3ed54a71c68"
   }
  }
 },
 "nbformat": 4,
 "nbformat_minor": 2
}
